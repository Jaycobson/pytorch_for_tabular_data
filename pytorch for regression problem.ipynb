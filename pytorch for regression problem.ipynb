{
 "cells": [
  {
   "cell_type": "markdown",
   "id": "ea9f564c",
   "metadata": {},
   "source": [
    "### Importing libraries"
   ]
  },
  {
   "cell_type": "code",
   "execution_count": 190,
   "id": "aa166000",
   "metadata": {},
   "outputs": [],
   "source": [
    "import torch\n",
    "import torch.nn as nn\n",
    "from torch.utils.data import DataLoader, TensorDataset\n",
    "from sklearn.model_selection import train_test_split\n",
    "import pandas as pd\n",
    "import matplotlib.pyplot as plt"
   ]
  },
  {
   "cell_type": "code",
   "execution_count": 191,
   "id": "ff331dfe",
   "metadata": {},
   "outputs": [
    {
     "data": {
      "text/plain": [
       "<torch._C.Generator at 0x25593731fd0>"
      ]
     },
     "execution_count": 191,
     "metadata": {},
     "output_type": "execute_result"
    }
   ],
   "source": [
    "#setting seed\n",
    "\n",
    "torch.manual_seed(42)"
   ]
  },
  {
   "cell_type": "code",
   "execution_count": 192,
   "id": "969c1b0a",
   "metadata": {},
   "outputs": [
    {
     "data": {
      "text/plain": [
       "'cpu'"
      ]
     },
     "execution_count": 192,
     "metadata": {},
     "output_type": "execute_result"
    }
   ],
   "source": [
    "#checking if there is gpu\n",
    "\n",
    "'gpu' if torch.cuda.is_available() else 'cpu'"
   ]
  },
  {
   "cell_type": "code",
   "execution_count": 193,
   "id": "6f983bac",
   "metadata": {},
   "outputs": [],
   "source": [
    "from sklearn.datasets import make_regression"
   ]
  },
  {
   "cell_type": "code",
   "execution_count": 194,
   "id": "42dc8787",
   "metadata": {},
   "outputs": [],
   "source": [
    "# obtaining random samples of data for regression task\n",
    "\n",
    "X, y = make_regression(n_samples = 5000, n_features = 15,noise = 0.15,shuffle = True, random_state =2023)"
   ]
  },
  {
   "cell_type": "code",
   "execution_count": 195,
   "id": "df2555b0",
   "metadata": {},
   "outputs": [
    {
     "data": {
      "text/plain": [
       "array([-0.70171655,  0.46574104, -0.53588754,  1.52172843, -0.89767908,\n",
       "       -0.50659648, -1.37692561,  0.51084632,  0.63954491,  0.14608361,\n",
       "        0.89124753, -0.69377474, -1.47763631,  0.27661801,  0.22602139])"
      ]
     },
     "execution_count": 195,
     "metadata": {},
     "output_type": "execute_result"
    }
   ],
   "source": [
    "#checking row 1 in X\n",
    "X[1]"
   ]
  },
  {
   "cell_type": "code",
   "execution_count": 196,
   "id": "2cd76c17",
   "metadata": {},
   "outputs": [
    {
     "data": {
      "text/plain": [
       "-133.59478890138257"
      ]
     },
     "execution_count": 196,
     "metadata": {},
     "output_type": "execute_result"
    }
   ],
   "source": [
    "# checking target at row 1\n",
    "y[1]"
   ]
  },
  {
   "cell_type": "code",
   "execution_count": 197,
   "id": "a74e5cb6",
   "metadata": {},
   "outputs": [],
   "source": [
    "# combining the features(X) and target(y) \n",
    "\n",
    "data = pd.concat([pd.DataFrame(X, columns = [f'feature_{i+1}' for i in range(X.shape[1])]), pd.Series(y, name = 'target')],axis=1)"
   ]
  },
  {
   "cell_type": "code",
   "execution_count": 198,
   "id": "6e0be09e",
   "metadata": {},
   "outputs": [
    {
     "data": {
      "text/html": [
       "<div>\n",
       "<style scoped>\n",
       "    .dataframe tbody tr th:only-of-type {\n",
       "        vertical-align: middle;\n",
       "    }\n",
       "\n",
       "    .dataframe tbody tr th {\n",
       "        vertical-align: top;\n",
       "    }\n",
       "\n",
       "    .dataframe thead th {\n",
       "        text-align: right;\n",
       "    }\n",
       "</style>\n",
       "<table border=\"1\" class=\"dataframe\">\n",
       "  <thead>\n",
       "    <tr style=\"text-align: right;\">\n",
       "      <th></th>\n",
       "      <th>feature_1</th>\n",
       "      <th>feature_2</th>\n",
       "      <th>feature_3</th>\n",
       "      <th>feature_4</th>\n",
       "      <th>feature_5</th>\n",
       "      <th>feature_6</th>\n",
       "      <th>feature_7</th>\n",
       "      <th>feature_8</th>\n",
       "      <th>feature_9</th>\n",
       "      <th>feature_10</th>\n",
       "      <th>feature_11</th>\n",
       "      <th>feature_12</th>\n",
       "      <th>feature_13</th>\n",
       "      <th>feature_14</th>\n",
       "      <th>feature_15</th>\n",
       "      <th>target</th>\n",
       "    </tr>\n",
       "  </thead>\n",
       "  <tbody>\n",
       "    <tr>\n",
       "      <th>0</th>\n",
       "      <td>-0.852877</td>\n",
       "      <td>-2.460330</td>\n",
       "      <td>0.111767</td>\n",
       "      <td>-1.255022</td>\n",
       "      <td>0.822070</td>\n",
       "      <td>0.555955</td>\n",
       "      <td>0.822053</td>\n",
       "      <td>-0.939854</td>\n",
       "      <td>-1.622870</td>\n",
       "      <td>-1.049502</td>\n",
       "      <td>1.116623</td>\n",
       "      <td>-1.566067</td>\n",
       "      <td>0.550240</td>\n",
       "      <td>0.299112</td>\n",
       "      <td>-0.344032</td>\n",
       "      <td>-146.254292</td>\n",
       "    </tr>\n",
       "    <tr>\n",
       "      <th>1</th>\n",
       "      <td>-0.701717</td>\n",
       "      <td>0.465741</td>\n",
       "      <td>-0.535888</td>\n",
       "      <td>1.521728</td>\n",
       "      <td>-0.897679</td>\n",
       "      <td>-0.506596</td>\n",
       "      <td>-1.376926</td>\n",
       "      <td>0.510846</td>\n",
       "      <td>0.639545</td>\n",
       "      <td>0.146084</td>\n",
       "      <td>0.891248</td>\n",
       "      <td>-0.693775</td>\n",
       "      <td>-1.477636</td>\n",
       "      <td>0.276618</td>\n",
       "      <td>0.226021</td>\n",
       "      <td>-133.594789</td>\n",
       "    </tr>\n",
       "    <tr>\n",
       "      <th>2</th>\n",
       "      <td>0.055668</td>\n",
       "      <td>-0.512437</td>\n",
       "      <td>-0.140442</td>\n",
       "      <td>-1.250186</td>\n",
       "      <td>-0.206536</td>\n",
       "      <td>-0.199821</td>\n",
       "      <td>-0.318102</td>\n",
       "      <td>-0.463995</td>\n",
       "      <td>1.104247</td>\n",
       "      <td>0.774113</td>\n",
       "      <td>-0.468534</td>\n",
       "      <td>0.868290</td>\n",
       "      <td>0.716947</td>\n",
       "      <td>0.014040</td>\n",
       "      <td>-0.916074</td>\n",
       "      <td>113.658044</td>\n",
       "    </tr>\n",
       "    <tr>\n",
       "      <th>3</th>\n",
       "      <td>2.246904</td>\n",
       "      <td>-0.656691</td>\n",
       "      <td>-1.350093</td>\n",
       "      <td>-0.542179</td>\n",
       "      <td>-0.467420</td>\n",
       "      <td>-0.228617</td>\n",
       "      <td>-0.079347</td>\n",
       "      <td>-0.889581</td>\n",
       "      <td>0.301199</td>\n",
       "      <td>-0.455119</td>\n",
       "      <td>0.091477</td>\n",
       "      <td>-0.426491</td>\n",
       "      <td>-0.214580</td>\n",
       "      <td>-1.288006</td>\n",
       "      <td>-0.592060</td>\n",
       "      <td>-115.267735</td>\n",
       "    </tr>\n",
       "    <tr>\n",
       "      <th>4</th>\n",
       "      <td>-2.327396</td>\n",
       "      <td>0.226996</td>\n",
       "      <td>-0.258848</td>\n",
       "      <td>1.020740</td>\n",
       "      <td>-0.398465</td>\n",
       "      <td>0.890614</td>\n",
       "      <td>-0.171492</td>\n",
       "      <td>0.433517</td>\n",
       "      <td>0.042585</td>\n",
       "      <td>0.695253</td>\n",
       "      <td>-0.572065</td>\n",
       "      <td>-1.117801</td>\n",
       "      <td>-0.935849</td>\n",
       "      <td>-0.350431</td>\n",
       "      <td>-1.198613</td>\n",
       "      <td>-162.619746</td>\n",
       "    </tr>\n",
       "  </tbody>\n",
       "</table>\n",
       "</div>"
      ],
      "text/plain": [
       "   feature_1  feature_2  feature_3  feature_4  feature_5  feature_6  \\\n",
       "0  -0.852877  -2.460330   0.111767  -1.255022   0.822070   0.555955   \n",
       "1  -0.701717   0.465741  -0.535888   1.521728  -0.897679  -0.506596   \n",
       "2   0.055668  -0.512437  -0.140442  -1.250186  -0.206536  -0.199821   \n",
       "3   2.246904  -0.656691  -1.350093  -0.542179  -0.467420  -0.228617   \n",
       "4  -2.327396   0.226996  -0.258848   1.020740  -0.398465   0.890614   \n",
       "\n",
       "   feature_7  feature_8  feature_9  feature_10  feature_11  feature_12  \\\n",
       "0   0.822053  -0.939854  -1.622870   -1.049502    1.116623   -1.566067   \n",
       "1  -1.376926   0.510846   0.639545    0.146084    0.891248   -0.693775   \n",
       "2  -0.318102  -0.463995   1.104247    0.774113   -0.468534    0.868290   \n",
       "3  -0.079347  -0.889581   0.301199   -0.455119    0.091477   -0.426491   \n",
       "4  -0.171492   0.433517   0.042585    0.695253   -0.572065   -1.117801   \n",
       "\n",
       "   feature_13  feature_14  feature_15      target  \n",
       "0    0.550240    0.299112   -0.344032 -146.254292  \n",
       "1   -1.477636    0.276618    0.226021 -133.594789  \n",
       "2    0.716947    0.014040   -0.916074  113.658044  \n",
       "3   -0.214580   -1.288006   -0.592060 -115.267735  \n",
       "4   -0.935849   -0.350431   -1.198613 -162.619746  "
      ]
     },
     "execution_count": 198,
     "metadata": {},
     "output_type": "execute_result"
    }
   ],
   "source": [
    "data.head()"
   ]
  },
  {
   "cell_type": "code",
   "execution_count": 199,
   "id": "ecab384f",
   "metadata": {
    "scrolled": true
   },
   "outputs": [
    {
     "data": {
      "image/png": "[encoded data removed]",
      "text/plain": [
       "<Figure size 640x480 with 1 Axes>"
      ]
     },
     "metadata": {},
     "output_type": "display_data"
    }
   ],
   "source": [
    "#histogram showing a normal distribution of the target variable\n",
    "plt.hist(data['target']);"
   ]
  },
  {
   "cell_type": "code",
   "execution_count": 200,
   "id": "1ef0431d",
   "metadata": {},
   "outputs": [],
   "source": [
    "# converting the values to torch float32 dtype\n",
    "\n",
    "X = torch.from_numpy(X).type(torch.float32)\n",
    "y = torch.from_numpy(y).type(torch.float32)"
   ]
  },
  {
   "cell_type": "code",
   "execution_count": 201,
   "id": "c34a4a4a",
   "metadata": {},
   "outputs": [
    {
     "data": {
      "text/plain": [
       "(4000, 1000, 4000, 1000)"
      ]
     },
     "execution_count": 201,
     "metadata": {},
     "output_type": "execute_result"
    }
   ],
   "source": [
    "# Split data into train and test sets\n",
    "from sklearn.model_selection import train_test_split\n",
    "\n",
    "X_train, X_test, y_train, y_test = train_test_split(X,y,\n",
    "                                                    test_size=0.2, # 20% test, 80% train\n",
    "                                                    random_state=42) # make the random split reproducible\n",
    "\n",
    "len(X_train), len(X_test), len(y_train), len(y_test)"
   ]
  },
  {
   "cell_type": "code",
   "execution_count": 202,
   "id": "50391fe0",
   "metadata": {},
   "outputs": [],
   "source": [
    "#creating regression class\n",
    "\n",
    "class regressor(nn.Module):\n",
    "    def __init__(self,in_features,out_features,hidden_layer1,hidden_layer2,hidden_layer3):\n",
    "        super().__init__()\n",
    "        self.layer1 = nn.Linear(in_features,hidden_layer1)\n",
    "        self.relu = nn.ReLU()\n",
    "        self.layer2 = nn.Linear(hidden_layer1,hidden_layer2)\n",
    "        self.layer3 = nn.Linear(hidden_layer2,hidden_layer3)\n",
    "        self.output = nn.Linear(hidden_layer3,out_features)\n",
    "            \n",
    "    def forward(self,X):\n",
    "        X = self.layer1(X)\n",
    "        X = self.relu(X)\n",
    "        X = self.layer2(X)\n",
    "        X = self.relu(X)\n",
    "        X = self.layer3(X)\n",
    "        X = self.relu(X)\n",
    "        X = self.output(X)\n",
    "        \n",
    "        return X\n",
    "            "
   ]
  },
  {
   "cell_type": "code",
   "execution_count": 203,
   "id": "9f7400a2",
   "metadata": {
    "scrolled": true
   },
   "outputs": [],
   "source": [
    "# instantiating the model from regressor class\n",
    "model = regressor(X.shape[1], 1, 15, 30 ,60)"
   ]
  },
  {
   "cell_type": "code",
   "execution_count": 204,
   "id": "a7f11b76",
   "metadata": {},
   "outputs": [],
   "source": [
    "BATCH_SIZE = 32 #batches of data\n",
    "trainset = TensorDataset(X_train, y_train)  #pytorch dataformat\n",
    "trainloader = DataLoader(trainset, batch_size=BATCH_SIZE, shuffle=True)  #pytorch data loading format\n",
    "validset = TensorDataset(X_train, y_train)#pytorch dataformat\n",
    "validloader = DataLoader(validset, batch_size=BATCH_SIZE, shuffle=True)#pytorch data loading format"
   ]
  },
  {
   "cell_type": "code",
   "execution_count": 205,
   "id": "ed030cd9",
   "metadata": {},
   "outputs": [
    {
     "data": {
      "text/plain": [
       "125"
      ]
     },
     "execution_count": 205,
     "metadata": {},
     "output_type": "execute_result"
    }
   ],
   "source": [
    "len(trainloader)"
   ]
  },
  {
   "cell_type": "code",
   "execution_count": 206,
   "id": "b467ee5f",
   "metadata": {},
   "outputs": [
    {
     "data": {
      "text/plain": [
       "[tensor([[-6.7980e-01, -3.8613e-01,  1.9994e+00, -4.9413e-01, -7.5154e-02,\n",
       "          -1.4199e-01,  3.1660e-01, -7.1453e-01, -1.4014e+00,  8.4045e-01,\n",
       "          -2.9610e-01, -7.7533e-01, -8.6954e-02,  3.8104e-01, -2.7030e-01],\n",
       "         [ 1.0680e+00,  9.8764e-01,  1.1779e-01,  3.0650e-01,  2.8391e-01,\n",
       "           1.7793e-01, -1.0681e+00, -2.3543e+00,  5.1729e-01, -1.1886e+00,\n",
       "          -1.6190e+00,  1.3322e+00,  1.8333e+00,  5.4290e-01,  3.0558e-01],\n",
       "         [-9.2561e-01,  2.2259e+00,  1.5196e+00, -2.8706e-01, -8.3609e-01,\n",
       "           1.1137e+00,  3.0332e-01, -2.6732e-02,  1.4748e+00, -3.4462e-01,\n",
       "           6.2033e-01, -9.6759e-01,  9.8644e-01,  5.6387e-01, -1.9326e+00],\n",
       "         [-4.8452e-02,  1.0991e+00, -1.0327e-01, -1.5176e+00,  1.3642e-01,\n",
       "           8.9187e-01, -1.7123e+00, -3.6481e-01,  6.5138e-01, -1.1591e+00,\n",
       "          -1.9943e-02,  4.2107e-01,  7.4998e-02,  1.9237e-01,  2.1062e+00],\n",
       "         [-5.8192e-01, -7.6985e-01, -3.9912e-01,  1.8641e-01, -1.8915e+00,\n",
       "          -1.4754e+00, -8.9685e-01, -1.0122e+00,  4.7869e-01,  3.9430e-01,\n",
       "           3.4933e-01, -4.1292e-01, -5.6266e-01, -9.5714e-01,  1.7482e+00],\n",
       "         [ 1.2521e+00, -1.0959e-01,  1.9016e+00, -6.6144e-03, -8.4452e-01,\n",
       "          -4.3910e-01, -3.3669e-01,  4.1381e-01, -1.0330e+00, -1.1796e+00,\n",
       "           8.8007e-01, -7.6142e-01, -6.4192e-01, -8.3162e-01,  1.5551e-01],\n",
       "         [-4.2552e-01, -6.3508e-01,  2.2553e-01,  1.0695e+00, -8.1444e-01,\n",
       "           1.9139e-01, -5.0014e-01,  1.8071e+00, -3.8368e-01, -2.1445e-01,\n",
       "          -9.1478e-01,  1.7587e-01,  3.2538e+00, -3.7424e-01, -8.7614e-01],\n",
       "         [ 3.9363e-02,  1.4305e+00,  1.8777e+00, -1.9845e+00,  1.4731e-01,\n",
       "           5.2109e-01, -7.4269e-01, -1.1604e-01,  4.0007e-01,  4.4089e-01,\n",
       "           1.3649e+00,  5.2295e-02,  8.3205e-01,  1.2301e-01, -8.0537e-01],\n",
       "         [-1.1415e+00,  3.4159e-01, -1.2747e+00, -3.4598e-01,  1.7125e+00,\n",
       "          -1.8300e+00, -6.3548e-01, -3.5114e-01, -2.2702e+00,  1.5490e+00,\n",
       "           2.5692e-01,  1.1560e+00,  6.0614e-01,  4.8353e-01, -9.9271e-02],\n",
       "         [-1.2467e+00, -8.2798e-01, -1.2022e-01,  1.2134e+00,  7.9098e-01,\n",
       "          -3.0816e-01, -9.1799e-01, -1.6579e-01, -4.2961e-01, -8.2694e-01,\n",
       "           4.3444e-01, -5.4619e-01,  7.6405e-01, -1.1157e+00,  7.6644e-01],\n",
       "         [ 4.2496e-01, -2.2882e+00,  7.9048e-01, -3.4825e-01, -9.2834e-01,\n",
       "          -8.6629e-01,  6.0325e-01, -7.7355e-01,  1.2672e+00,  6.8826e-02,\n",
       "          -2.1584e-01,  1.9219e+00,  1.4846e+00,  3.5540e-02,  2.3829e-01],\n",
       "         [ 1.3811e-02, -4.4283e-01,  1.5664e+00,  5.8889e-01, -1.4109e+00,\n",
       "           2.1905e-01, -1.0308e+00, -2.2062e-01, -1.0413e+00, -4.8183e-01,\n",
       "          -2.5918e-01,  7.2825e-01,  6.0356e-01, -8.2406e-01, -6.7623e-01],\n",
       "         [-8.1328e-02,  6.2945e-01,  1.6575e+00,  1.2048e+00, -1.0821e+00,\n",
       "          -8.0984e-01,  1.9806e-01, -1.2891e-01,  8.9065e-01,  6.3534e-01,\n",
       "          -3.7066e-01, -1.9247e-01,  4.6961e-01,  1.1082e+00, -6.3967e-01],\n",
       "         [-2.3003e+00, -1.0596e+00, -2.3684e+00,  1.5373e+00, -1.1139e-02,\n",
       "          -9.0557e-01,  1.3432e+00, -1.8277e+00,  1.0832e+00,  8.0431e-01,\n",
       "          -4.1498e-01,  2.2143e-01, -7.9177e-01,  2.5437e-01,  5.7656e-03],\n",
       "         [-1.0376e+00, -1.4815e+00,  7.6907e-01,  1.4691e+00, -3.0213e-05,\n",
       "           1.3074e+00, -2.9410e-01, -6.2036e-01,  5.4603e-01, -1.5594e+00,\n",
       "           1.2605e-01, -9.2746e-01,  4.3667e-01,  5.7878e-01, -1.4507e+00],\n",
       "         [-8.0364e-01, -4.2837e-02,  1.4103e+00,  3.9867e-01, -1.7308e+00,\n",
       "          -4.5956e-01, -1.5315e+00, -1.5869e+00,  8.6187e-01,  1.5175e+00,\n",
       "           5.8336e-01,  7.0276e-01,  6.2714e-01,  6.2115e-01,  2.1568e-01],\n",
       "         [-5.1165e-02, -1.3663e+00,  2.6064e-01, -5.3373e-01,  1.3621e+00,\n",
       "          -4.4731e-01,  2.2356e-01,  1.0621e+00, -9.0885e-01, -8.0059e-01,\n",
       "           8.3854e-01, -9.1332e-01,  7.6137e-01, -1.8404e-01, -1.3767e+00],\n",
       "         [ 2.7773e+00, -6.1646e-01, -8.8244e-01, -1.9592e+00,  1.8245e-01,\n",
       "          -9.0000e-01,  7.9547e-01, -7.1027e-01,  1.2374e+00,  1.1064e+00,\n",
       "           1.8663e-02,  9.8742e-01,  7.7818e-01,  8.4118e-01,  2.1960e-02],\n",
       "         [-5.7392e-01, -4.7741e-01,  2.1313e+00,  1.1972e+00, -1.1173e+00,\n",
       "          -4.2977e-01, -9.1898e-01, -3.8044e-01, -9.5566e-01, -9.4969e-01,\n",
       "           5.5149e-01,  9.6850e-01,  9.1897e-02,  3.1451e+00,  1.0986e+00],\n",
       "         [ 3.5488e-01,  1.1017e+00, -1.4105e+00,  2.6123e-01, -4.6176e-01,\n",
       "          -3.4558e-01,  5.9711e-01,  5.3352e-01, -2.0967e+00,  5.6709e-01,\n",
       "          -5.4798e-01, -2.5582e-01, -9.9144e-01,  6.8528e-01, -1.3965e+00],\n",
       "         [-3.1224e-01,  2.9472e-01, -4.3009e-01,  1.7330e+00,  8.9332e-01,\n",
       "          -2.4768e-01, -1.3323e+00,  2.6730e-01,  4.0524e-01,  1.9741e+00,\n",
       "           1.4879e-02, -1.4997e+00, -1.0801e+00, -8.2707e-01,  1.2652e+00],\n",
       "         [-6.4239e-01,  1.2320e+00, -1.4337e+00, -9.1224e-01, -1.0705e+00,\n",
       "          -1.4371e-01,  1.0884e+00,  5.3163e-01, -8.8499e-01, -1.1353e+00,\n",
       "          -3.7538e-01, -4.4039e-01, -1.2323e+00, -3.4392e-01,  1.6237e-01],\n",
       "         [-1.1078e-02, -6.0112e-01, -2.1576e-01, -5.0408e-02,  8.9903e-02,\n",
       "          -1.3182e-01, -3.9267e-01,  1.3030e+00, -5.1286e-01, -5.4792e-01,\n",
       "           2.2869e-01,  1.1914e+00, -6.2821e-02,  7.2831e-01,  1.0089e-02],\n",
       "         [ 5.2150e-01, -4.4846e-01, -5.7626e-01,  9.0906e-01,  3.2469e-01,\n",
       "          -6.6398e-01, -8.7364e-01,  8.9431e-03,  7.9269e-01, -5.6806e-01,\n",
       "           4.0838e-01, -5.6543e-01, -6.8612e-01, -1.2755e+00, -1.0584e+00],\n",
       "         [ 8.5180e-01, -1.8896e+00, -2.6710e+00,  7.3112e-02,  5.6429e-01,\n",
       "           4.6164e-01, -1.2735e+00,  8.0730e-01, -6.2981e-01,  1.4771e+00,\n",
       "           1.9682e-01, -1.5597e-01, -1.5886e+00, -1.7992e+00, -9.3854e-02],\n",
       "         [-8.3383e-01, -1.0905e+00, -6.9246e-01,  1.1888e+00, -1.4344e+00,\n",
       "          -1.0998e+00, -6.7021e-01, -9.2187e-01,  9.3263e-01, -2.6591e-03,\n",
       "           7.3960e-02,  1.4988e+00,  1.0522e+00,  6.3206e-01,  1.1857e-01],\n",
       "         [ 1.3652e+00,  7.8739e-01,  4.6802e-01,  3.2419e-01, -2.7663e+00,\n",
       "           1.0668e-01,  6.6637e-01, -7.1812e-02, -1.4097e-01, -1.1977e+00,\n",
       "          -6.9025e-02,  9.1146e-01, -9.6791e-01,  9.6802e-01, -5.4379e-01],\n",
       "         [ 6.1112e-01,  3.1129e-01,  6.3430e-02,  2.2400e+00,  3.7698e-01,\n",
       "          -7.7495e-01, -6.7549e-01, -4.7857e-01,  1.6191e+00,  3.3126e-01,\n",
       "          -1.4384e+00, -9.2799e-01, -1.2131e+00, -1.2917e+00,  2.2649e+00],\n",
       "         [-6.1783e-01,  7.2205e-01,  2.4944e-01,  2.9293e-01, -7.2906e-01,\n",
       "           8.2292e-01, -2.0907e+00, -2.4990e-01,  7.5034e-01, -2.5140e+00,\n",
       "           6.9826e-01, -1.4159e-01, -4.9961e-02,  1.2371e+00, -1.6364e-01],\n",
       "         [ 1.2229e-01,  7.4963e-01,  7.2943e-01,  2.5504e-01,  1.0834e+00,\n",
       "          -1.2108e+00, -2.1524e+00,  9.5435e-01, -2.2222e-01,  5.2560e-01,\n",
       "           1.2991e+00, -5.3020e-01, -1.0782e+00, -8.3098e-01,  1.7247e+00],\n",
       "         [ 9.6047e-01,  1.9887e-01,  2.3579e-01, -1.0716e+00, -1.1026e+00,\n",
       "          -1.4798e-01, -9.8183e-01,  7.9926e-01,  1.2109e-01,  2.5523e-01,\n",
       "          -8.2039e-01, -4.1601e-01, -3.0094e-02,  3.5447e-01,  1.0975e+00],\n",
       "         [ 9.2115e-01, -9.8435e-01, -7.1760e-01, -2.7948e-01,  2.2461e-01,\n",
       "          -9.8594e-01,  2.3843e+00, -3.5713e-01,  5.7206e-01, -2.4319e+00,\n",
       "          -7.0962e-02,  2.5920e-01,  4.0766e-01,  7.2521e-01, -3.6335e-01]]),\n",
       " tensor([  95.7243,  142.1524,  137.3382,  -39.0747, -105.9313,   18.0733,\n",
       "          106.3535,  195.7026,  -68.4766, -136.1068,  271.8944,   85.9426,\n",
       "          231.0865, -180.6407,  -24.3928,  219.8666,  -55.4428,  208.7932,\n",
       "          216.3402, -159.9656, -105.4138, -267.7218,   17.3254, -128.3320,\n",
       "         -286.9137,   70.8046,   75.6193,  -45.0035,  -75.8250,  -50.3436,\n",
       "           35.6823,  -14.9802])]"
      ]
     },
     "execution_count": 206,
     "metadata": {},
     "output_type": "execute_result"
    }
   ],
   "source": [
    "next(iter(trainloader))"
   ]
  },
  {
   "cell_type": "code",
   "execution_count": 207,
   "id": "e4ca71eb",
   "metadata": {},
   "outputs": [
    {
     "name": "stdout",
     "output_type": "stream",
     "text": [
      " Shape of feature data (X) in batch: torch.Size([32, 15])\n",
      "Shape of response data (y) in batch: torch.Size([32])\n"
     ]
    }
   ],
   "source": [
    "XX, yy = next(iter(trainloader))\n",
    "print(f\" Shape of feature data (X) in batch: {XX.shape}\")\n",
    "print(f\"Shape of response data (y) in batch: {yy.shape}\")"
   ]
  },
  {
   "cell_type": "code",
   "execution_count": 208,
   "id": "d8e0dab5",
   "metadata": {},
   "outputs": [],
   "source": [
    "LEARNING_RATE = 0.0001\n",
    "MAE = nn.L1Loss()\n",
    "criterion = nn.MSELoss()  # loss function\n",
    "optimizer = torch.optim.SGD(model.parameters(), lr=LEARNING_RATE) "
   ]
  },
  {
   "cell_type": "code",
   "execution_count": 209,
   "id": "8d4dcd4c",
   "metadata": {},
   "outputs": [],
   "source": [
    "def trainer(model, criterion, optimizer, trainloader, validloader, epochs=5, patience=3, verbose=True):\n",
    "    \"\"\"Simple training wrapper for PyTorch network.\"\"\"\n",
    "    \n",
    "    train_loss = []\n",
    "    valid_loss = []\n",
    "    train_mae = []\n",
    "    valid_mae = []\n",
    "    for epoch in range(epochs):  # for each epoch\n",
    "        train_batch_loss = 0\n",
    "        train_batch_mae = 0\n",
    "        valid_batch_loss = 0\n",
    "        valid_batch_mae = 0\n",
    "        \n",
    "        # Training\n",
    "        for X, y in trainloader:\n",
    "            optimizer.zero_grad()       # Zero all the gradients w.r.t. parameters\n",
    "            y_hat = model(X).squeeze() # Forward pass to get output\n",
    "            loss = criterion(y_hat, y)   # Calculate loss based on output\n",
    "            loss.backward()             # Calculate gradients w.r.t. parameters\n",
    "            optimizer.step()            # Update parameters\n",
    "            train_batch_loss += loss.item()  # Add loss for this batch to running total\n",
    "            train_batch_mae += MAE(y_hat,y.type(torch.float32)).item()   # Average mae for this batch\n",
    "        train_loss.append(train_batch_loss / len(trainloader))     # loss = total loss in epoch / number of batches = loss per batch\n",
    "        train_mae.append(train_batch_mae / len(trainloader))  # mae\n",
    "        \n",
    "        # Validation\n",
    "        model.eval()  # this turns off those random dropout layers, we don't want them for validation!\n",
    "        with torch.no_grad():  # this stops pytorch doing computational graph stuff under-the-hood and saves memory and time\n",
    "            for X, y in validloader:\n",
    "                y_hat = model(X).squeeze() # Forward pass to get output\n",
    "              \n",
    "                loss = criterion(y_hat, y)   # Calculate loss based on output\n",
    "                valid_batch_loss += loss.item()                  # Add loss for this batch to running total\n",
    "                valid_batch_mae += MAE(y_hat,y.type(torch.float32)).item() # Average mae for this batch\n",
    "        valid_loss.append(valid_batch_loss / len(validloader))\n",
    "        valid_mae.append(valid_batch_mae / len(validloader))  # mae\n",
    "        \n",
    "        model.train()  # turn back on the dropout layers for the next training loop\n",
    "        \n",
    "        # Print progress\n",
    "        if verbose:\n",
    "            print(f\"Epoch {epoch + 1}:\",\n",
    "                  f\"Train Loss: {train_loss[-1]:.4f}.\",\n",
    "                  f\"Valid Loss: {valid_loss[-1]:.4f}.\",\n",
    "                  f\"Train mae: {train_mae[-1]:.4f}\",\n",
    "                  f\"Valid mae: {valid_mae[-1]:.4f}\")\n",
    "        \n",
    "        # Early stopping\n",
    "        if epoch > 0 and valid_loss[-1] > valid_loss[-2]:\n",
    "            consec_increases += 1\n",
    "        else:\n",
    "            consec_increases = 0\n",
    "        if consec_increases == patience:\n",
    "            print(f\"Stopped early at epoch {epoch + 1} - val loss increased for {consec_increases} consecutive epochs!\")\n",
    "            break\n",
    "    \n",
    "    return train_loss,valid_loss,train_mae,valid_mae"
   ]
  },
  {
   "cell_type": "code",
   "execution_count": 210,
   "id": "f2b82dc2",
   "metadata": {
    "scrolled": false
   },
   "outputs": [
    {
     "name": "stdout",
     "output_type": "stream",
     "text": [
      "Epoch 1: Train Loss: 13940.9724. Valid Loss: 13916.7927. Train mae: 94.6380 Valid mae: 94.5544\n",
      "Epoch 2: Train Loss: 9903.2171. Valid Loss: 288.3625. Train mae: 72.4912 Valid mae: 13.7814\n",
      "Epoch 3: Train Loss: 163.7654. Valid Loss: 68.3658. Train mae: 10.0223 Valid mae: 6.7486\n",
      "Epoch 4: Train Loss: 32.7274. Valid Loss: 14.8232. Train mae: 4.3082 Valid mae: 2.8327\n",
      "Epoch 5: Train Loss: 11.3573. Valid Loss: 7.8823. Train mae: 2.4943 Valid mae: 2.0445\n",
      "Epoch 6: Train Loss: 6.4343. Valid Loss: 5.0197. Train mae: 1.8792 Valid mae: 1.6899\n",
      "Epoch 7: Train Loss: 4.2710. Valid Loss: 3.6973. Train mae: 1.5179 Valid mae: 1.4802\n",
      "Epoch 8: Train Loss: 3.0154. Valid Loss: 2.4428. Train mae: 1.2899 Valid mae: 1.1645\n",
      "Epoch 9: Train Loss: 2.3085. Valid Loss: 2.0074. Train mae: 1.1362 Valid mae: 1.0767\n",
      "Epoch 10: Train Loss: 1.8002. Valid Loss: 1.7118. Train mae: 1.0039 Valid mae: 1.0093\n",
      "Epoch 11: Train Loss: 1.4645. Valid Loss: 1.2050. Train mae: 0.9117 Valid mae: 0.8224\n",
      "Epoch 12: Train Loss: 1.1978. Valid Loss: 1.1707. Train mae: 0.8247 Valid mae: 0.8151\n",
      "Epoch 13: Train Loss: 1.0432. Valid Loss: 0.9301. Train mae: 0.7711 Valid mae: 0.7225\n",
      "Epoch 14: Train Loss: 0.8964. Valid Loss: 0.8159. Train mae: 0.7190 Valid mae: 0.6822\n",
      "Epoch 15: Train Loss: 0.7820. Valid Loss: 0.7477. Train mae: 0.6689 Valid mae: 0.6592\n",
      "Epoch 16: Train Loss: 0.6958. Valid Loss: 0.6288. Train mae: 0.6297 Valid mae: 0.6009\n",
      "Epoch 17: Train Loss: 0.6177. Valid Loss: 0.5460. Train mae: 0.5953 Valid mae: 0.5566\n",
      "Epoch 18: Train Loss: 0.5557. Valid Loss: 0.5072. Train mae: 0.5622 Valid mae: 0.5456\n",
      "Epoch 19: Train Loss: 0.5044. Valid Loss: 0.4696. Train mae: 0.5355 Valid mae: 0.5118\n",
      "Epoch 20: Train Loss: 0.4595. Valid Loss: 0.4551. Train mae: 0.5137 Valid mae: 0.5170\n",
      "Epoch 21: Train Loss: 0.4277. Valid Loss: 0.4202. Train mae: 0.4944 Valid mae: 0.4912\n",
      "Epoch 22: Train Loss: 0.3908. Valid Loss: 0.3543. Train mae: 0.4730 Valid mae: 0.4510\n",
      "Epoch 23: Train Loss: 0.3721. Valid Loss: 0.3364. Train mae: 0.4621 Valid mae: 0.4396\n",
      "Epoch 24: Train Loss: 0.3291. Valid Loss: 0.3350. Train mae: 0.4337 Valid mae: 0.4418\n",
      "Epoch 25: Train Loss: 0.3145. Valid Loss: 0.2810. Train mae: 0.4236 Valid mae: 0.3955\n",
      "Epoch 26: Train Loss: 0.2870. Valid Loss: 0.2706. Train mae: 0.4069 Valid mae: 0.3894\n",
      "Epoch 27: Train Loss: 0.2681. Valid Loss: 0.2480. Train mae: 0.3946 Valid mae: 0.3797\n",
      "Epoch 28: Train Loss: 0.2532. Valid Loss: 0.2485. Train mae: 0.3834 Valid mae: 0.3836\n",
      "Epoch 29: Train Loss: 0.2395. Valid Loss: 0.2341. Train mae: 0.3700 Valid mae: 0.3636\n",
      "Epoch 30: Train Loss: 0.2257. Valid Loss: 0.2127. Train mae: 0.3602 Valid mae: 0.3478\n"
     ]
    }
   ],
   "source": [
    "trainloss,validloss,trainmae,validmae = trainer(model, criterion, optimizer, trainloader, validloader, epochs=30)"
   ]
  },
  {
   "cell_type": "code",
   "execution_count": 211,
   "id": "81ff7716",
   "metadata": {},
   "outputs": [
    {
     "data": {
      "image/png": "[encoded data removed]",
      "text/plain": [
       "<Figure size 1000x500 with 1 Axes>"
      ]
     },
     "metadata": {},
     "output_type": "display_data"
    }
   ],
   "source": [
    "plt.figure(figsize = (10,5))\n",
    "plt.plot(range(len(trainloss)), trainloss ,c='red',)\n",
    "plt.plot(range(len(trainloss)),validloss ,c='blue')\n",
    "plt.xticks(range(len(trainloss)))\n",
    "plt.legend(['trainloss','validloss'])\n",
    "plt.ylabel('Mean Squared Error')\n",
    "plt.xlabel('No of Epochs')\n",
    "plt.show()\n"
   ]
  },
  {
   "cell_type": "code",
   "execution_count": 212,
   "id": "221df9e3",
   "metadata": {},
   "outputs": [
    {
     "data": {
      "image/png": "[encoded data removed]",
      "text/plain": [
       "<Figure size 1000x500 with 1 Axes>"
      ]
     },
     "metadata": {},
     "output_type": "display_data"
    }
   ],
   "source": [
    "plt.figure(figsize = (10,5))\n",
    "plt.plot(range(len(trainmae)), trainmae ,c='red',)\n",
    "plt.plot(range(len(trainmae)),validmae ,c='blue')\n",
    "plt.xticks(range(len(trainloss)))\n",
    "plt.legend(['trainmae','validmae'])\n",
    "plt.ylabel('Mean Absolute Error')\n",
    "plt.xlabel('No of Epochs')\n",
    "plt.show()\n"
   ]
  },
  {
   "cell_type": "markdown",
   "id": "97458b64",
   "metadata": {},
   "source": [
    "As seen in the two graphs above, the mean absolute error and mean squared error reduced drastically over a very large number of epochs"
   ]
  },
  {
   "cell_type": "code",
   "execution_count": null,
   "id": "e65a024d",
   "metadata": {},
   "outputs": [],
   "source": []
  }
 ],
 "metadata": {
  "kernelspec": {
   "display_name": "Python 3 (ipykernel)",
   "language": "python",
   "name": "python3"
  },
  "language_info": {
   "codemirror_mode": {
    "name": "ipython",
    "version": 3
   },
   "file_extension": ".py",
   "mimetype": "text/x-python",
   "name": "python",
   "nbconvert_exporter": "python",
   "pygments_lexer": "ipython3",
   "version": "3.9.13"
  }
 },
 "nbformat": 4,
 "nbformat_minor": 5
}
